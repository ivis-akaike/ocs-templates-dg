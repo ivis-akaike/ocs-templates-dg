{
 "cells": [
  {
   "cell_type": "markdown",
   "metadata": {},
   "source": [
    "# mdx仮想マシンへのsapporo-service構築\n",
    "このNotebookでは、mdx仮想マシンのデプロイと、その仮想マシン上にsapporo-serviceを構築します。"
   ]
  },
  {
   "cell_type": "markdown",
   "metadata": {},
   "source": [
    "## 準備\n",
    "\n",
    "1. mdx REST API 認証トークン設定\n",
    "2. mdx VM にSSHログインするためのキーペア作成\n",
    "3. mdx の REST API エンドポイントに接続できることの確認"
   ]
  },
  {
   "cell_type": "markdown",
   "metadata": {},
   "source": [
    "### mdx REST API 認証トークン設定\n",
    "\n",
    "以下のセルを実行してmdx REST API認証トークンを入力します。"
   ]
  },
  {
   "cell_type": "code",
   "execution_count": null,
   "metadata": {},
   "outputs": [],
   "source": [
    "from getpass import getpass\n",
    "mdx_token = getpass('mdx API token')"
   ]
  },
  {
   "cell_type": "markdown",
   "metadata": {},
   "source": [
    "### mdx VM への SSH ログイン用キーペア作成\n",
    "\n",
    "mdx VM デプロイ時の設定項目に含まれる公開鍵を用意します。"
   ]
  },
  {
   "cell_type": "code",
   "execution_count": null,
   "metadata": {},
   "outputs": [],
   "source": [
    "!test -f ~/.ssh/id_rsa || ssh-keygen -t rsa -f ~/.ssh/id_rsa -N \"\"\n",
    "!ls -l ~/.ssh"
   ]
  },
  {
   "cell_type": "markdown",
   "metadata": {},
   "source": [
    "### mdx REST API エンドポイント接続確認\n",
    "\n",
    "mdx REST APIエンドポイントにIPv6で接続しようとすると到達不可となる場合があるため、以下のセルを実行してIPv4での接続を強制します。"
   ]
  },
  {
   "cell_type": "code",
   "execution_count": null,
   "metadata": {},
   "outputs": [],
   "source": [
    "# デフォルトのresolverがIPv6のアドレスを返すことにより以降のAPIで接続不可の場合があるため、以下のコードを実行しておく。\n",
    "def use_ipv4_only():\n",
    "    import socket\n",
    "    old_getaddrinfo = socket.getaddrinfo\n",
    "    def new_getaddrinfo(*args, **kwargs):\n",
    "        responses = old_getaddrinfo(*args, **kwargs)\n",
    "        return [response\n",
    "                for response in responses\n",
    "                if response[0] == socket.AF_INET]\n",
    "    socket.getaddrinfo = new_getaddrinfo\n",
    "\n",
    "use_ipv4_only()"
   ]
  },
  {
   "cell_type": "markdown",
   "metadata": {},
   "source": [
    "以下のセルを実行し、HTTPステータスコード 200 が返ることを確認します。"
   ]
  },
  {
   "cell_type": "code",
   "execution_count": null,
   "metadata": {},
   "outputs": [],
   "source": [
    "!curl https://oprpl.mdx.jp -w '%{http_code}\\n' -o /dev/null -s"
   ]
  },
  {
   "cell_type": "markdown",
   "metadata": {},
   "source": [
    "## mdx VM 作成\n",
    "\n",
    "1. VCP SDK mdx用プラグインモジュールの読み込み\n",
    "2. mdx VM作成に必要なパラメータ設定\n",
    "3. mdx VMデプロイ実行"
   ]
  },
  {
   "cell_type": "markdown",
   "metadata": {},
   "source": [
    "### VCP SDK mdx用プラグインモジュールの読み込み"
   ]
  },
  {
   "cell_type": "code",
   "execution_count": null,
   "metadata": {},
   "outputs": [],
   "source": [
    "from vcpsdk.plugins.mdx_ext import MdxResourceExt\n",
    "mdx = MdxResourceExt(mdx_token)"
   ]
  },
  {
   "cell_type": "markdown",
   "metadata": {},
   "source": [
    "### mdx VM作成に必要なパラメータ設定\n",
    "\n",
    "- プロジェクトID\n",
    "- ネットワークセグメントID\n",
    "- sshログインのための公開鍵"
   ]
  },
  {
   "cell_type": "markdown",
   "metadata": {},
   "source": [
    "自身が所属している（利用可能な）mdxのプロジェクト情報を確認します。"
   ]
  },
  {
   "cell_type": "code",
   "execution_count": null,
   "metadata": {},
   "outputs": [],
   "source": [
    "import json\n",
    "projects = mdx.get_assigned_projects()\n",
    "for org in projects:\n",
    "    print(json.dumps(org['projects'], indent=2, ensure_ascii=False))"
   ]
  },
  {
   "cell_type": "markdown",
   "metadata": {},
   "source": [
    "以降のmdx操作対象とする「プロジェクト名」 (`name`) を設定します。"
   ]
  },
  {
   "cell_type": "code",
   "execution_count": null,
   "metadata": {},
   "outputs": [],
   "source": [
    "# プロジェクト名\n",
    "project_name = ''\n",
    "mdx.set_current_project_by_name(project_name)"
   ]
  },
  {
   "cell_type": "markdown",
   "metadata": {},
   "source": [
    "操作対象として設定したプロジェクト情報を確認します。"
   ]
  },
  {
   "cell_type": "code",
   "execution_count": null,
   "metadata": {},
   "outputs": [],
   "source": [
    "print(json.dumps(mdx.get_current_project(), indent=2, ensure_ascii=False))"
   ]
  },
  {
   "cell_type": "markdown",
   "metadata": {},
   "source": [
    "プロジェクトで利用可能なネットワークセグメントのリストを取得します。"
   ]
  },
  {
   "cell_type": "code",
   "execution_count": null,
   "metadata": {},
   "outputs": [],
   "source": [
    "segments = mdx.get_segments()\n",
    "print(json.dumps(segments, indent=2, ensure_ascii=False))"
   ]
  },
  {
   "cell_type": "markdown",
   "metadata": {},
   "source": [
    "セグメントIDを取得します。"
   ]
  },
  {
   "cell_type": "code",
   "execution_count": null,
   "metadata": {},
   "outputs": [],
   "source": [
    "# セグメント名\n",
    "segment_name = ''\n",
    "\n",
    "for segment in segments:\n",
    "    if segment['name'] == segment_name:\n",
    "        segment_id = segment['uuid']\n",
    "\n",
    "segment_id"
   ]
  },
  {
   "cell_type": "markdown",
   "metadata": {},
   "source": [
    "sshログインのための公開鍵ファイルの内容を設定します。"
   ]
  },
  {
   "cell_type": "code",
   "execution_count": null,
   "metadata": {},
   "outputs": [],
   "source": [
    "import os\n",
    "with open(os.path.expanduser('~/.ssh/id_rsa.pub')) as f:\n",
    "    ssh_shared_key = f.read()\n",
    "print(ssh_shared_key)"
   ]
  },
  {
   "cell_type": "markdown",
   "metadata": {},
   "source": [
    "### mdx VMデプロイ\n",
    "\n",
    "ここでは、仮想マシンテンプレートとして「推奨版、東京大学制作、20220412-2043版」を使用します。\n",
    "> 利用可能な仮想マシンテンプレートの一覧は、 `get_vm_catalogs()` により取得可能\n",
    "\n",
    "ここでは、一例として、[ハードウェアのカスタマイズ項目](https://docs.mdx.jp/ja/main/create_vm.html#deploy-settings)を以下の内容で設定します。  \n",
    "各項目の意味は前述のリンク先（ハードウェアのカスタマイズ項目）の説明を確認してください。\n",
    "  * 仮想マシン名: `\"vcp-host0001\"` **（プロジェクト内で重複しないこと）**\n",
    "  * パックタイプ: `\"cpu\"`\n",
    "  * パック数: `3`\n",
    "  * 仮想ディスク(GB): `40`\n",
    "  * ストレージネットワーク: `\"portgroup\"`\n",
    "  * サービスレベル: `\"spot\"`"
   ]
  },
  {
   "cell_type": "markdown",
   "metadata": {},
   "source": [
    "mdx VMにIPアドレスが設定されるまで5分程度要するため、実行中のセルの経過時間を表示するライブラリ [jupyter-autotime](https://pypi.org/project/jupyter-autotime/) 機能を有効化します。"
   ]
  },
  {
   "cell_type": "code",
   "execution_count": null,
   "metadata": {},
   "outputs": [],
   "source": [
    "!pip install jupyter-autotime\n",
    "%load_ext autotime"
   ]
  },
  {
   "cell_type": "markdown",
   "metadata": {},
   "source": [
    "VMのパラメータを設定します。"
   ]
  },
  {
   "cell_type": "code",
   "execution_count": null,
   "metadata": {},
   "outputs": [],
   "source": [
    "DEFAULT_CATALOG = \"16a41081-a1cf-428e-90d0-a147b3aa6fc2\"\n",
    "DEFAULT_TEMPLATE_NAME = \"UT-20220412-2043-ubuntu-2004-server\"\n",
    "\n",
    "vm_name = \"sapporo\"\n",
    "\n",
    "mdx_spec = dict(\n",
    "    catalog=DEFAULT_CATALOG,\n",
    "    template_name=DEFAULT_TEMPLATE_NAME,\n",
    "    pack_num=3,\n",
    "    pack_type=\"cpu\",\n",
    "    disk_size=40,\n",
    "    gpu=\"0\",\n",
    "    network_adapters=[\n",
    "        dict(\n",
    "            adapter_number=1,\n",
    "            segment=segment_id\n",
    "        )\n",
    "    ],\n",
    "    shared_key=ssh_shared_key,\n",
    "    storage_network=\"portgroup\",\n",
    "    service_level=\"spot\",\n",
    ")"
   ]
  },
  {
   "cell_type": "markdown",
   "metadata": {},
   "source": [
    "VMのデプロイを実行します。デプロイ完了後、VM情報を出力します。"
   ]
  },
  {
   "cell_type": "code",
   "execution_count": null,
   "metadata": {},
   "outputs": [],
   "source": [
    "info = mdx.deploy_vm(vm_name, mdx_spec)\n",
    "print(json.dumps(info, indent=2, ensure_ascii=False))"
   ]
  },
  {
   "cell_type": "code",
   "execution_count": null,
   "metadata": {},
   "outputs": [],
   "source": [
    "# jupyter-autotime を無効化\n",
    "%unload_ext autotime"
   ]
  },
  {
   "cell_type": "markdown",
   "metadata": {},
   "source": [
    "VMに付与されたプライベートIPv4アドレスを取得します。"
   ]
  },
  {
   "cell_type": "code",
   "execution_count": null,
   "metadata": {},
   "outputs": [],
   "source": [
    "private_ip_address = info[\"service_networks\"][0][\"ipv4_address\"][0]\n",
    "private_ip_address"
   ]
  },
  {
   "cell_type": "markdown",
   "metadata": {},
   "source": [
    "プロジェクトに割り当てられたグローバルIPv4アドレスへの通信を仮想マシンについたプライベートIPv4アドレスに転送し、  \n",
    "プロジェクト外部(インターネットなど)と仮想マシンが直接通信できるようにします。"
   ]
  },
  {
   "cell_type": "markdown",
   "metadata": {},
   "source": [
    "使用可能なグローバルIPv4アドレス一覧を取得します。"
   ]
  },
  {
   "cell_type": "code",
   "execution_count": null,
   "metadata": {},
   "outputs": [],
   "source": [
    "import requests\n",
    "\n",
    "url = f'https://oprpl.mdx.jp/api/global_ip/project/{mdx._project_id}/assignable/'\n",
    "headers = {\n",
    "    'Content-Type': 'application/json',\n",
    "    'Accept': 'application/json',\n",
    "    'Authorization': f'JWT {mdx_token}',\n",
    "}\n",
    "res = requests.get(url, data=[], headers=headers)\n",
    "res.json()"
   ]
  },
  {
   "cell_type": "markdown",
   "metadata": {},
   "source": [
    "使用可能なグローバルIPv4アドレスを選びます。"
   ]
  },
  {
   "cell_type": "code",
   "execution_count": null,
   "metadata": {},
   "outputs": [],
   "source": [
    "public_ip_address = ''"
   ]
  },
  {
   "cell_type": "code",
   "execution_count": null,
   "metadata": {},
   "outputs": [],
   "source": [
    "import requests\n",
    "\n",
    "url = 'https://oprpl.mdx.jp/api/dnat/'\n",
    "dnat_spec = {\n",
    "    'pool_address': public_ip_address,\n",
    "    'segment': segment_id,\n",
    "    'dst_address': private_ip_address,\n",
    "}\n",
    "headers = {\n",
    "    'Content-Type': 'application/json',\n",
    "    'Accept': 'application/json',\n",
    "    'Authorization': f'JWT {mdx_token}',\n",
    "}\n",
    "\n",
    "res = requests.post(url, data=json.dumps(dnat_spec), headers=headers)\n",
    "res"
   ]
  },
  {
   "cell_type": "markdown",
   "metadata": {},
   "source": [
    "## VCP既存サーバ (SSH) モード セットアップ\n",
    "\n",
    "1. mdx VMへの疎通確認\n",
    "2. VM初期パスワード設定\n",
    "3. 既存サーバ(SSH) モード セットアップスクリプトをmdx VMへのコピー\n",
    "4. 既存サーバ(SSH) モード セットアップ実行\n",
    "5. Docker のインストール確認"
   ]
  },
  {
   "cell_type": "markdown",
   "metadata": {},
   "source": [
    "### mdx VMへの疎通確認"
   ]
  },
  {
   "cell_type": "code",
   "execution_count": null,
   "metadata": {},
   "outputs": [],
   "source": [
    "!ping -c 3 {public_ip_address}"
   ]
  },
  {
   "cell_type": "markdown",
   "metadata": {},
   "source": [
    "### VM初期パスワード設定\n",
    "\n",
    "* 仮想マシンテンプレート「推奨版、東京大学制作、20220412-2043版」では、初回ログイン時にはOSのパスワード設定が求められる\n",
    "* ログインユーザ名は `mdxuser`"
   ]
  },
  {
   "cell_type": "markdown",
   "metadata": {},
   "source": [
    "VMの初期パスワード（ここでは例として `mdx_vm_initial_password` を指定）をSSH経由で設定するために必要なパラメータを設定します。"
   ]
  },
  {
   "cell_type": "code",
   "execution_count": null,
   "metadata": {},
   "outputs": [],
   "source": [
    "ssh_user_name = \"mdxuser\"\n",
    "ssh_private_key_path = os.path.expanduser(\"~/.ssh/id_rsa\")\n",
    "mdx_user_password = \"mdx_vm_initial_password\""
   ]
  },
  {
   "cell_type": "markdown",
   "metadata": {},
   "source": [
    "expectスクリプトを用いてVMの初期パスワード設定を実行します。"
   ]
  },
  {
   "cell_type": "code",
   "execution_count": null,
   "metadata": {},
   "outputs": [],
   "source": [
    "import pathlib\n",
    "dir = pathlib.Path(os.getcwd())\n",
    "init_pass_path = os.path.join(dir.parent, 'CoursewareHub/scripts/init_mdx_passwd.exp')\n",
    "\n",
    "!chmod 775 {init_pass_path}\n",
    "!{init_pass_path} {ssh_user_name} {public_ip_address} {ssh_private_key_path} {mdx_user_password}"
   ]
  },
  {
   "cell_type": "markdown",
   "metadata": {},
   "source": [
    "### 既存サーバ(SSH) モード セットアップスクリプトをmdx VMへのコピー"
   ]
  },
  {
   "cell_type": "code",
   "execution_count": null,
   "metadata": {},
   "outputs": [],
   "source": [
    "# notebookからmdx VMへのsshコマンドオプション\n",
    "ssh_opts = f\" -i {ssh_private_key_path} -o StrictHostKeyChecking=no -o UserKnownHostsFile=/dev/null\""
   ]
  },
  {
   "cell_type": "code",
   "execution_count": null,
   "metadata": {},
   "outputs": [],
   "source": [
    "init_node_path = os.path.join(dir.parent, 'CoursewareHub/scripts/init_mdx_node.sh')\n",
    "\n",
    "!scp {ssh_opts} {init_node_path} {ssh_user_name}@{public_ip_address}:"
   ]
  },
  {
   "cell_type": "markdown",
   "metadata": {},
   "source": [
    "### 既存サーバ(SSH) モード セットアップ実行\n",
    "\n",
    "- docker-ce インストール\n",
    "- sshd_config 設定変更: Port 20022 "
   ]
  },
  {
   "cell_type": "code",
   "execution_count": null,
   "metadata": {},
   "outputs": [],
   "source": [
    "!ssh {ssh_opts} {ssh_user_name}@{public_ip_address} chmod 775 init_mdx_node.sh\n",
    "!ssh {ssh_opts} {ssh_user_name}@{public_ip_address} ./init_mdx_node.sh"
   ]
  },
  {
   "cell_type": "markdown",
   "metadata": {},
   "source": [
    "### Docker のインストール確認"
   ]
  },
  {
   "cell_type": "code",
   "execution_count": null,
   "metadata": {},
   "outputs": [],
   "source": [
    "!ssh {ssh_opts} -p 20022 {ssh_user_name}@{public_ip_address} sudo docker version"
   ]
  },
  {
   "cell_type": "markdown",
   "metadata": {},
   "source": [
    "## sapporo-service の構築"
   ]
  },
  {
   "cell_type": "markdown",
   "metadata": {},
   "source": [
    "### トークン認証のための設定\n",
    "- cf. https://github.com/RCOSDP/CS-sapporo-service/blob/main/README.md#authentication"
   ]
  },
  {
   "cell_type": "code",
   "execution_count": null,
   "metadata": {},
   "outputs": [],
   "source": [
    "import json\n",
    "\n",
    "jwt_secret_key = 'secret123'\n",
    "username = 'test_user'\n",
    "password = 'test_password'\n",
    "\n",
    "auth_config = {\n",
    "    'auth_enabled': True,\n",
    "    'jwt_secret_key': jwt_secret_key,\n",
    "    'users': [\n",
    "        {\n",
    "            'username': username,\n",
    "            'password': password,\n",
    "        }\n",
    "    ]\n",
    "}\n",
    "\n",
    "with open('auth_config.json', 'w') as f:\n",
    "    json.dump(auth_config, f)"
   ]
  },
  {
   "cell_type": "markdown",
   "metadata": {},
   "source": [
    "`auth_config.json` ファイルをsapporo-service実行環境にアップロードします。"
   ]
  },
  {
   "cell_type": "code",
   "execution_count": null,
   "metadata": {},
   "outputs": [],
   "source": [
    "!scp {ssh_opts} -P 20022 auth_config.json {ssh_user_name}@{public_ip_address}:"
   ]
  },
  {
   "cell_type": "markdown",
   "metadata": {},
   "source": [
    "### Docker Compose file の準備\n",
    "- github.com/RCOSDP/CS-sapporo-service リポジトリから compose file を取得\n",
    "- トークン認証を有効化するために compose file を修正\n",
    "- sapporo-service実行環境に compose file をアップロード"
   ]
  },
  {
   "cell_type": "code",
   "execution_count": null,
   "metadata": {},
   "outputs": [],
   "source": [
    "!curl -fsSL -O https://raw.githubusercontent.com/RCOSDP/CS-sapporo-service/main/compose.dev-deploy.yml"
   ]
  },
  {
   "cell_type": "markdown",
   "metadata": {},
   "source": [
    "compose file を書き換えます。"
   ]
  },
  {
   "cell_type": "code",
   "execution_count": null,
   "metadata": {},
   "outputs": [],
   "source": [
    "!sed -e 's|command:.*|command: sapporo --auth-config /config/auth_config.json|' \\\n",
    "    -e 's/127.0.0.1/0.0.0.0/' \\\n",
    "    -e '/volumes:/a \\ \\ \\ \\ \\ \\ - \\$\\{PWD\\}\\/auth_config.json:\\/config\\/auth_config.json' \\\n",
    "    -i.bak compose.dev-deploy.yml"
   ]
  },
  {
   "cell_type": "markdown",
   "metadata": {},
   "source": [
    "compose fileを実行環境にアップロードします。"
   ]
  },
  {
   "cell_type": "code",
   "execution_count": null,
   "metadata": {},
   "outputs": [],
   "source": [
    "!scp {ssh_opts} -P 20022 compose.dev-deploy.yml {ssh_user_name}@{public_ip_address}:"
   ]
  },
  {
   "cell_type": "markdown",
   "metadata": {},
   "source": [
    "compose file の内容を確認します。"
   ]
  },
  {
   "cell_type": "code",
   "execution_count": null,
   "metadata": {},
   "outputs": [],
   "source": [
    "!ssh {ssh_opts} -p 20022 {ssh_user_name}@{public_ip_address} cat compose.dev-deploy.yml"
   ]
  },
  {
   "cell_type": "markdown",
   "metadata": {},
   "source": [
    "### sapporo-service の起動"
   ]
  },
  {
   "cell_type": "markdown",
   "metadata": {},
   "source": [
    "sapporo-serviceを起動します。"
   ]
  },
  {
   "cell_type": "code",
   "execution_count": null,
   "metadata": {},
   "outputs": [],
   "source": [
    "!ssh {ssh_opts} -p 20022 {ssh_user_name}@{public_ip_address} sudo -E docker compose -f compose.dev-deploy.yml up -d"
   ]
  },
  {
   "cell_type": "code",
   "execution_count": null,
   "metadata": {},
   "outputs": [],
   "source": [
    "!ssh {ssh_opts} -p 20022 {ssh_user_name}@{public_ip_address} sudo -E docker compose -f compose.dev-deploy.yml logs"
   ]
  },
  {
   "cell_type": "code",
   "execution_count": null,
   "metadata": {},
   "outputs": [],
   "source": [
    "!ssh {ssh_opts} -p 20022 {ssh_user_name}@{public_ip_address} curl -s localhost:1122/service-info"
   ]
  },
  {
   "cell_type": "markdown",
   "metadata": {},
   "source": [
    "### 認証トークンの取得\n",
    "- cf. https://github.com/RCOSDP/CS-sapporo-service/blob/main/README.md#authentication"
   ]
  },
  {
   "cell_type": "code",
   "execution_count": null,
   "metadata": {},
   "outputs": [],
   "source": [
    "data = f'{{\"username\": \"{username}\", \"password\": \"{password}\"}}'\n",
    "!curl -X POST -H \"Content-Type: application/json\" -d '{data}' {public_ip_address}:1122/auth"
   ]
  },
  {
   "cell_type": "markdown",
   "metadata": {},
   "source": [
    "### サービス情報取得APIによるアクセス確認\n",
    "取得した認証トークンを使用して接続できることを確認します。"
   ]
  },
  {
   "cell_type": "code",
   "execution_count": null,
   "metadata": {},
   "outputs": [],
   "source": [
    "import requests\n",
    "\n",
    "token = ''\n",
    "\n",
    "url = f'http://{public_ip_address}:1122/service-info'\n",
    "headers = {'Authorization': f'Bearer {token}'}\n",
    "response = requests.get(url, headers = headers)\n",
    "print(response.text)"
   ]
  },
  {
   "cell_type": "markdown",
   "metadata": {},
   "source": [
    "## mdx VMの削除\n",
    "\n",
    "ここで作成したmdx仮想マシンを削除します。"
   ]
  },
  {
   "cell_type": "markdown",
   "metadata": {},
   "source": [
    "#### 仮想マシンの状態取得"
   ]
  },
  {
   "cell_type": "code",
   "execution_count": null,
   "metadata": {},
   "outputs": [],
   "source": [
    "# 仮想マシンの状態取得\n",
    "vm_info = mdx.get_vm_info(vm_name)\n",
    "print(json.dumps(vm_info, indent=2, ensure_ascii=False))"
   ]
  },
  {
   "cell_type": "markdown",
   "metadata": {},
   "source": [
    "#### 仮想マシンのシャットダウン、削除"
   ]
  },
  {
   "cell_type": "code",
   "execution_count": null,
   "metadata": {},
   "outputs": [],
   "source": [
    "# 仮想マシンのシャットダウン\n",
    "mdx.power_shutdown_vm(vm_name, wait_for=True)"
   ]
  },
  {
   "cell_type": "code",
   "execution_count": null,
   "metadata": {},
   "outputs": [],
   "source": [
    "# 仮想マシンの削除\n",
    "mdx.destroy_vm(vm_name, wait_for=True)"
   ]
  },
  {
   "cell_type": "markdown",
   "metadata": {},
   "source": [
    "#### DNATの削除"
   ]
  },
  {
   "cell_type": "code",
   "execution_count": null,
   "metadata": {},
   "outputs": [],
   "source": [
    "headers = {\n",
    "    'Content-Type': 'application/json',\n",
    "    'Accept': 'application/json',\n",
    "    'Authorization': f'JWT {mdx_token}',\n",
    "}\n",
    "\n",
    "# DNAT IDの取得\n",
    "dnat_id = None\n",
    "url = f'https://oprpl.mdx.jp/api/dnat/project/{mdx._project_id}/'\n",
    "while url and not dnat_id:\n",
    "    res_dnat = requests.get(url, data=[], headers=headers)\n",
    "    url = res_dnat.json()['next']\n",
    "    for dnat in res_dnat.json()['results']:\n",
    "        if dnat['pool_address'] == public_ip_address and dnat['dst_address'] == private_ip_address:\n",
    "            dnat_id = dnat['uuid']\n",
    "            break\n",
    "\n",
    "if dnat_id:\n",
    "    # DNATの削除\n",
    "    url = f'https://oprpl.mdx.jp/api/dnat/{dnat_id}'\n",
    "    res_dnat = requests.delete(url, headers=headers)"
   ]
  }
 ],
 "metadata": {
  "language_info": {
   "name": "python"
  },
  "frozenable": true
 },
 "nbformat": 4,
 "nbformat_minor": 2
}
