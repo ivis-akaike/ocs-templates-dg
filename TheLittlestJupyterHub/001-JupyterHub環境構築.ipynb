{
 "cells": [
  {
   "cell_type": "markdown",
   "metadata": {
    "lc_cell_meme": {
     "current": "7ed14e68-e647-11ec-b295-02420a010016-2-2476-ea56",
     "next": "7ed14f62-e647-11ec-b295-02420a010016-2-2774-aa92",
     "previous": null
    }
   },
   "source": [
    "# The Littlest JupyterHub による軽量Python実習環境の構築\n",
    "\n",
    "[JupyterHub](https://jupyter.org/hub) は、Webブラウザからアクセス可能なマルチユーザ対応の認証機能付きJupyterNotebookサーバです。\n",
    "\n",
    "JupyterHubを利用して管理者が用意したNotebookをユーザがブラウザからすぐに実行可能な環境を提供できるため、Pythonによるプログラミング研修やワークショップを開催したり、講義演習環境として活用したりするのに適しています。\n",
    "\n",
    "本テンプレートでは、JupyterHubを小規模なグループで手軽に利用することを想定し、単一のサーバで実行するために開発された「[The Littlest JupyterHub](https://tljh.jupyter.org/)」（以下 “TLJH” と略）をVCPを用いて構築します。  \n",
    "\n",
    "構築したTLJH環境の操作はWebブラウザ経由で行うことになります。構築するVCノードにブラウザからアクセスできるように事前にネットワークを設定してください。直接アクセスできない場合は、例えばリバースプロキシを使う、DNATで制御する、などの手段があります。\n",
    "\n",
    "![](images/overview.png)"
   ]
  },
  {
   "cell_type": "markdown",
   "metadata": {
    "lc_cell_meme": {
     "current": "7ed14f62-e647-11ec-b295-02420a010016-2-2774-aa92",
     "next": "7ed1500c-e647-11ec-b295-02420a010016-2-7e22-fdfa",
     "previous": "7ed14e68-e647-11ec-b295-02420a010016-2-2476-ea56"
    }
   },
   "source": [
    "## 構築環境情報の入力\n",
    "TLJH環境の構築情報を入力します。必要に応じ、下記の情報を修正してください。\n"
   ]
  },
  {
   "cell_type": "code",
   "execution_count": null,
   "metadata": {
    "lc_cell_meme": {
     "current": "7ed1500c-e647-11ec-b295-02420a010016-2-7e22-fdfa",
     "next": "7ed150a2-e647-11ec-b295-02420a010016-2-8bb5-4e0b",
     "previous": "7ed14f62-e647-11ec-b295-02420a010016-2-2774-aa92"
    },
    "lc_wrapper": {}
   },
   "outputs": [],
   "source": [
    "# UnitGroup名\n",
    "ugroup_name = 'TLJH_template'\n",
    "\n",
    "# プロバイダ\n",
    "vc_provider = 'onpremises'\n",
    "\n",
    "# フレーバー\n",
    "vcnode_flavor = 'default'\n",
    "\n",
    "# SINET接続可能なプライベートIPアドレス\n",
    "private_ip_address_sn = ''\n",
    "\n",
    "# インターネット接続で使用するパブリックIPアドレス\n",
    "public_ip_address_in = ''\n",
    "\n",
    "# マシンにアクセスするためのユーザー名\n",
    "user_name = 'mdxuser'\n",
    "\n",
    "# TLJH管理者ユーザ名とパスワードの指定\n",
    "admin_user = 'admin-user01'\n",
    "admin_password = 'admin-user01'"
   ]
  },
  {
   "cell_type": "markdown",
   "metadata": {
    "lc_cell_meme": {
     "current": "7ed150a2-e647-11ec-b295-02420a010016-2-8bb5-4e0b",
     "next": "7ed15142-e647-11ec-b295-02420a010016-2-409f-1db4",
     "previous": "7ed1500c-e647-11ec-b295-02420a010016-2-7e22-fdfa"
    }
   },
   "source": [
    "## VCノードの作成\n",
    "\n",
    "はじめに、アプリケーションVCP を利用するために必要なアクセストークンを入力し、VCP SDK を初期化します。"
   ]
  },
  {
   "cell_type": "markdown",
   "metadata": {
    "lc_cell_meme": {
     "current": "7ed15142-e647-11ec-b295-02420a010016-2-409f-1db4",
     "next": "7ed151ec-e647-11ec-b295-02420a010016-2-4299-af5b",
     "previous": "7ed150a2-e647-11ec-b295-02420a010016-2-8bb5-4e0b"
    }
   },
   "source": [
    "### アクセストークンの入力"
   ]
  },
  {
   "cell_type": "code",
   "execution_count": null,
   "metadata": {
    "lc_cell_meme": {
     "current": "7ed151ec-e647-11ec-b295-02420a010016-2-4299-af5b",
     "next": "7ed15278-e647-11ec-b295-02420a010016-2-c63e-4440",
     "previous": "7ed15142-e647-11ec-b295-02420a010016-2-409f-1db4"
    },
    "lc_wrapper": {}
   },
   "outputs": [],
   "source": [
    "from getpass import getpass\n",
    "vcc_access_token = getpass()"
   ]
  },
  {
   "cell_type": "markdown",
   "metadata": {
    "lc_cell_meme": {
     "current": "7ed15278-e647-11ec-b295-02420a010016-2-c63e-4440",
     "next": "7ed1530e-e647-11ec-b295-02420a010016-2-05bf-eefa",
     "previous": "7ed151ec-e647-11ec-b295-02420a010016-2-4299-af5b"
    }
   },
   "source": [
    "### VCP の初期化\n",
    "VCP を初期化します。エラーになった場合、この章のセルを `unfreeze` してから、もう一度アクセストークンを入力してください。"
   ]
  },
  {
   "cell_type": "code",
   "execution_count": null,
   "metadata": {
    "lc_cell_meme": {
     "current": "7ed1530e-e647-11ec-b295-02420a010016-2-05bf-eefa",
     "next": "7ed153ae-e647-11ec-b295-02420a010016-2-8baa-0f66",
     "previous": "7ed15278-e647-11ec-b295-02420a010016-2-c63e-4440"
    },
    "lc_wrapper": {}
   },
   "outputs": [],
   "source": [
    "import os\n",
    "import pathlib\n",
    "from vcpsdk.vcpsdk import VcpSDK\n",
    "\n",
    "current_dir = pathlib.Path(os.getcwd())\n",
    "config_path = os.path.join(current_dir.parent, 'vcp_config')\n",
    "\n",
    "# VCP SDKの初期化\n",
    "vcp = VcpSDK(vcc_access_token, config_path)"
   ]
  },
  {
   "cell_type": "markdown",
   "metadata": {
    "lc_cell_meme": {
     "current": "7ed153ae-e647-11ec-b295-02420a010016-2-8baa-0f66",
     "next": "7ed15444-e647-11ec-b295-02420a010016-2-65ae-bd04",
     "previous": "7ed1530e-e647-11ec-b295-02420a010016-2-05bf-eefa"
    }
   },
   "source": [
    "### TLJH を実行するVCノードの作成\n",
    "\n",
    "クラウド上のインスタンスをVCノードとして作成します。"
   ]
  },
  {
   "cell_type": "markdown",
   "metadata": {
    "lc_cell_meme": {
     "current": "7ed15444-e647-11ec-b295-02420a010016-2-65ae-bd04",
     "next": "7ed154e4-e647-11ec-b295-02420a010016-2-8285-efb1",
     "previous": "7ed153ae-e647-11ec-b295-02420a010016-2-8baa-0f66"
    }
   },
   "source": [
    " ### VCノードのspecを指定する\n",
    " \n",
    "TLJH を利用するのに十分な性能・容量のノードspecを指定します。  "
   ]
  },
  {
   "cell_type": "code",
   "execution_count": null,
   "metadata": {
    "lc_cell_meme": {
     "current": "7ed154e4-e647-11ec-b295-02420a010016-2-8285-efb1",
     "next": "7ed15570-e647-11ec-b295-02420a010016-2-eaf5-de88",
     "previous": "7ed15444-e647-11ec-b295-02420a010016-2-65ae-bd04"
    },
    "lc_wrapper": {}
   },
   "outputs": [],
   "source": [
    "import os\n",
    "\n",
    "# UnitGroup の作成\n",
    "unit_group = vcp.create_ugroup(ugroup_name)\n",
    "\n",
    "# VCノード spec\n",
    "spec = vcp.get_spec(vc_provider, vcnode_flavor)\n",
    "\n",
    "# spec オプション (固定割当IPアドレス)\n",
    "spec.ip_addresses = [private_ip_address_sn]\n",
    "\n",
    "# VCノードでsudo権限があるユーザー名\n",
    "spec.user_name = user_name\n",
    "\n",
    "# ssh keyfiles\n",
    "!mkdir -p -m 700 ~/.ssh\n",
    "vcp_public_key_path = os.path.expanduser('~/.ssh/vcp.pub')\n",
    "vcp_public_key = vcp.get_publickey()\n",
    "with open(vcp_public_key_path, 'w') as f:\n",
    "    f.write(vcp_public_key)\n",
    "spec.set_ssh_pubkey(vcp_public_key_path)\n",
    "\n",
    "# BaseコンテナとしてTLJHインストール済みのイメージを指定\n",
    "spec.image = 'harbor.vcloud.nii.ac.jp/vcp/tljh:20230327'\n",
    "spec.params_v = ['/sys/fs/cgroup:/sys/fs/cgroup:ro',\n",
    "                 '/lib/modules:/lib/modules:ro',\n",
    "                 '/var/lib/docker']"
   ]
  },
  {
   "cell_type": "markdown",
   "metadata": {
    "lc_cell_meme": {
     "current": "7ed15570-e647-11ec-b295-02420a010016-2-eaf5-de88",
     "next": "7ed15610-e647-11ec-b295-02420a010016-2-5282-a1a3",
     "previous": "7ed154e4-e647-11ec-b295-02420a010016-2-8285-efb1"
    }
   },
   "source": [
    "### Unitの作成とVCノードの起動\n",
    "Unitを作成します。Unitを作成すると同時に VCノードが起動します。処理が完了するまで1分半～2分程度かかります。"
   ]
  },
  {
   "cell_type": "code",
   "execution_count": null,
   "metadata": {
    "lc_cell_meme": {
     "current": "7ed15610-e647-11ec-b295-02420a010016-2-5282-a1a3",
     "next": "7ed156b0-e647-11ec-b295-02420a010016-2-7920-77c6",
     "previous": "7ed15570-e647-11ec-b295-02420a010016-2-eaf5-de88"
    },
    "lc_wrapper": {}
   },
   "outputs": [],
   "source": [
    "# Unitの作成（同時に VCノードが作成される）\n",
    "unit = unit_group.create_unit('tljh-node', spec)"
   ]
  },
  {
   "cell_type": "markdown",
   "metadata": {
    "lc_cell_meme": {
     "current": "7ed156b0-e647-11ec-b295-02420a010016-2-7920-77c6",
     "next": "7ed1573c-e647-11ec-b295-02420a010016-2-f3ca-74fb",
     "previous": "7ed15610-e647-11ec-b295-02420a010016-2-5282-a1a3"
    }
   },
   "source": [
    "### 疎通確認\n",
    "\n",
    "VCノードに対して`uname -a`を実行し、`ubuntu x86_64 Linux` が起動していることを確認します。起動していない場合は、`spec.image` に誤りがあります。本Notebook下部にある「環境の削除」を実行、 `spec.image` を修正、全てのセルを `unfreeze` してから、最初から再実行してください。"
   ]
  },
  {
   "cell_type": "code",
   "execution_count": null,
   "metadata": {},
   "outputs": [],
   "source": [
    "ssh_public_key_path = os.path.expanduser('~/.ssh/id_rsa.pub')\n",
    "ssh_private_key_path = os.path.expanduser('~/.ssh/id_rsa')\n",
    "with open(ssh_public_key_path, 'r') as f:\n",
    "    ssh_public_key = f.read()\n",
    "\n",
    "ssh_opts = f\" -i {ssh_private_key_path} -o StrictHostKeyChecking=no -o UserKnownHostsFile=/dev/null\"\n",
    "\n",
    "!echo \"{ssh_public_key}\" | (ssh {ssh_opts} -p20022 {user_name}@{public_ip_address_in} \"cat >> ~/.ssh/authorized_keys\")\n",
    "\n",
    "# システムの確認\n",
    "!ssh {ssh_opts} -p 20022 {user_name}@{public_ip_address_in} sudo docker exec mynode uname -a"
   ]
  },
  {
   "cell_type": "markdown",
   "metadata": {
    "lc_cell_meme": {
     "current": "7ed157dc-e647-11ec-b295-02420a010016-2-2a66-b56b",
     "next": "7ed159a8-e647-11ec-b295-02420a010016-2-475e-76c3",
     "previous": "7ed1573c-e647-11ec-b295-02420a010016-2-f3ca-74fb"
    }
   },
   "source": [
    "## TLJH (The Littlest JupyterHub) 環境の構築"
   ]
  },
  {
   "cell_type": "markdown",
   "metadata": {
    "lc_cell_meme": {
     "current": "7ed159a8-e647-11ec-b295-02420a010016-2-475e-76c3",
     "next": "55f0db3c-cb32-11ed-892b-0242ac110003-1-0e92",
     "previous": "7ed157dc-e647-11ec-b295-02420a010016-2-2a66-b56b"
    }
   },
   "source": [
    "### TLJHの起動"
   ]
  },
  {
   "cell_type": "markdown",
   "metadata": {
    "lc_cell_meme": {
     "current": "55f0db3c-cb32-11ed-892b-0242ac110003-1-0e92",
     "next": "7ed15a3e-e647-11ec-b295-02420a010016-2-91f1-c919",
     "previous": "7ed159a8-e647-11ec-b295-02420a010016-2-475e-76c3"
    }
   },
   "source": [
    "- 管理者ユーザ名とパスワードを指定して起動します。\n",
    "- TLJHコンテナ上で `tljh-config` コマンドを実行することでユーザ追加だけでなく他の様々な設定を行うことができます。\n",
    "- cf. <https://tljh.jupyter.org/en/latest/topic/tljh-config.html>"
   ]
  },
  {
   "cell_type": "code",
   "execution_count": null,
   "metadata": {
    "lc_cell_meme": {
     "current": "7ed15a3e-e647-11ec-b295-02420a010016-2-91f1-c919",
     "next": "7ed15d40-e647-11ec-b295-02420a010016-2-47f9-935c",
     "previous": "55f0db3c-cb32-11ed-892b-0242ac110003-1-0e92"
    },
    "lc_wrapper": {}
   },
   "outputs": [],
   "source": [
    "# TLJHの起動\n",
    "!ssh {ssh_opts} -p 20022 {user_name}@{public_ip_address_in} sudo docker exec mynode \\\n",
    "    /opt/tljh/hub/bin/python3 /opt/tljh/src/bootstrap/bootstrap.py --admin {admin_user}:{admin_password}"
   ]
  },
  {
   "cell_type": "markdown",
   "metadata": {
    "lc_cell_meme": {
     "current": "7ed15d40-e647-11ec-b295-02420a010016-2-47f9-935c",
     "next": "92672c5e-cb93-11ed-892b-0242ac110003-1-80b7",
     "previous": "7ed15a3e-e647-11ec-b295-02420a010016-2-91f1-c919"
    }
   },
   "source": [
    "#### TLJH の 起動確認\n",
    "`jupyterhub.service`が`active` になっていることを確認します。\n",
    "以下のセルを実行します。"
   ]
  },
  {
   "cell_type": "code",
   "execution_count": null,
   "metadata": {
    "lc_cell_meme": {
     "current": "92672c5e-cb93-11ed-892b-0242ac110003-1-80b7",
     "next": "7ed15d40-e647-11ec-b295-02420a010016-3-47f9-c82c-966e",
     "previous": "7ed15d40-e647-11ec-b295-02420a010016-2-47f9-935c"
    },
    "lc_wrapper": {}
   },
   "outputs": [],
   "source": [
    "!ssh {ssh_opts} -p 20022 {user_name}@{public_ip_address_in} sudo docker exec mynode systemctl status jupyterhub"
   ]
  },
  {
   "cell_type": "markdown",
   "metadata": {
    "lc_cell_meme": {
     "current": "7ed15d40-e647-11ec-b295-02420a010016-3-47f9-c82c-966e",
     "next": "7ed15dcc-e647-11ec-b295-02420a010016-2-7473-9800",
     "previous": "92672c5e-cb93-11ed-892b-0242ac110003-1-80b7"
    }
   },
   "source": [
    "#### TLJH の Web インターフェースのカスタマイズ\n",
    "\n",
    "今、このノートブックを実行しているJupyterNotebook環境と、構築したTLJHのJupyterHubのWebインターフェースを識別しやすくするために、TLJH側にカスタマイズしたCSSファイルを設定します。\n",
    "\n",
    "以下のセルを実行します。"
   ]
  },
  {
   "cell_type": "code",
   "execution_count": null,
   "metadata": {
    "lc_cell_meme": {
     "current": "7ed15dcc-e647-11ec-b295-02420a010016-2-7473-9800",
     "next": "7ed15e58-e647-11ec-b295-02420a010016-2-a0bc-a6a1",
     "previous": "7ed15d40-e647-11ec-b295-02420a010016-3-47f9-c82c-966e"
    },
    "lc_wrapper": {}
   },
   "outputs": [],
   "source": [
    "!scp {ssh_opts} -P 20022 ./files/custom.css {user_name}@{public_ip_address_in}:/tmp/\n",
    "!ssh {ssh_opts} -p 20022 {user_name}@{public_ip_address_in} sudo docker cp /tmp/custom.css mynode:/tmp/custom.css\n",
    "!ssh {ssh_opts} -p 20022 {user_name}@{public_ip_address_in} sudo docker exec mynode mkdir -p /etc/skel/.jupyter/custom\n",
    "!ssh {ssh_opts} -p 20022 {user_name}@{public_ip_address_in} sudo docker exec mynode cp /tmp/custom.css /etc/skel/.jupyter/custom/custom.css"
   ]
  },
  {
   "cell_type": "markdown",
   "metadata": {
    "lc_cell_meme": {
     "current": "7ed15e58-e647-11ec-b295-02420a010016-2-a0bc-a6a1",
     "next": "7ed15ee4-e647-11ec-b295-02420a010016-2-1e3c-33f3",
     "previous": "7ed15dcc-e647-11ec-b295-02420a010016-2-7473-9800"
    }
   },
   "source": [
    "## TLJH の管理と利用\n",
    "\n",
    "VCノード上に起動したTLJHにブラウザからアクセスし、Python実習環境として必要な作業を行います。"
   ]
  },
  {
   "cell_type": "markdown",
   "metadata": {
    "lc_cell_meme": {
     "current": "7ed15ee4-e647-11ec-b295-02420a010016-2-1e3c-33f3",
     "next": "7ed15f84-e647-11ec-b295-02420a010016-2-165b-b21a",
     "previous": "7ed15e58-e647-11ec-b295-02420a010016-2-a0bc-a6a1"
    }
   },
   "source": [
    "### 管理者ユーザとしてブラウザからログイン\n",
    "\n",
    "次のセルとを実行するとログイン先URLを作成します。\n",
    "直接VCノードのIPアドレスでアクセスできない場合は、環境に合わせて変更してください。"
   ]
  },
  {
   "cell_type": "code",
   "execution_count": null,
   "metadata": {
    "lc_cell_meme": {
     "current": "7ed15f84-e647-11ec-b295-02420a010016-2-165b-b21a",
     "next": "7ed1601a-e647-11ec-b295-02420a010016-2-d886-88e6",
     "previous": "7ed15ee4-e647-11ec-b295-02420a010016-2-1e3c-33f3"
    },
    "lc_wrapper": {}
   },
   "outputs": [],
   "source": [
    "print(f'http://{public_ip_address_in}/hub/home')"
   ]
  },
  {
   "cell_type": "markdown",
   "metadata": {
    "lc_cell_meme": {
     "current": "7ed1601a-e647-11ec-b295-02420a010016-2-d886-88e6",
     "next": "7ed160b0-e647-11ec-b295-02420a010016-2-2fa2-3d23",
     "previous": "7ed15f84-e647-11ec-b295-02420a010016-2-165b-b21a"
    }
   },
   "source": [
    "#### ログイン\n",
    "\n",
    "指定した管理者名とパスワードを入力しログインしてください。\n",
    "管理者名とパスワードは冒頭のTLJH環境の構築情報として設定しています。\n",
    "![](images/tljh-login.png)"
   ]
  },
  {
   "cell_type": "markdown",
   "metadata": {
    "lc_cell_meme": {
     "current": "7ed160b0-e647-11ec-b295-02420a010016-2-2fa2-3d23",
     "next": "7ed16164-e647-11ec-b295-02420a010016-2-efc2-2991",
     "previous": "7ed1601a-e647-11ec-b295-02420a010016-2-d886-88e6"
    }
   },
   "source": [
    "#### 初期画面\n",
    "\n",
    "ログイン後の初期画面は、ファイルやディレクトリが1つもない状態となっています。\n",
    "\n",
    "![](images/tljh-filebrowser.png)"
   ]
  },
  {
   "cell_type": "markdown",
   "metadata": {
    "lc_cell_meme": {
     "current": "7ed16164-e647-11ec-b295-02420a010016-2-efc2-2991",
     "next": "7ed16204-e647-11ec-b295-02420a010016-2-5a7d-5c88",
     "previous": "7ed160b0-e647-11ec-b295-02420a010016-2-2fa2-3d23"
    }
   },
   "source": [
    "### 一般ユーザ (student) アカウントの追加\n",
    "\n",
    "管理者用コントロールパネルの機能を利用し、管理者以外のユーザを追加します。"
   ]
  },
  {
   "cell_type": "markdown",
   "metadata": {
    "lc_cell_meme": {
     "current": "7ed16204-e647-11ec-b295-02420a010016-2-5a7d-5c88",
     "next": "7ed16290-e647-11ec-b295-02420a010016-2-c11c-52d3",
     "previous": "7ed16164-e647-11ec-b295-02420a010016-2-efc2-2991"
    }
   },
   "source": [
    "#### 画面右上の **Control Panel** ボタンを押す\n",
    "\n",
    "![](images/tljh-control_1.png)"
   ]
  },
  {
   "cell_type": "markdown",
   "metadata": {
    "lc_cell_meme": {
     "current": "7ed16290-e647-11ec-b295-02420a010016-2-c11c-52d3",
     "next": "7ed16326-e647-11ec-b295-02420a010016-2-a90a-c39c",
     "previous": "7ed16204-e647-11ec-b295-02420a010016-2-5a7d-5c88"
    }
   },
   "source": [
    "#### **Admin** メニューを選択する\n",
    "\n",
    "![](images/tljh-control_2.png)"
   ]
  },
  {
   "cell_type": "markdown",
   "metadata": {
    "lc_cell_meme": {
     "current": "7ed16326-e647-11ec-b295-02420a010016-2-a90a-c39c",
     "next": "7ed163c6-e647-11ec-b295-02420a010016-2-725d-0c0c",
     "previous": "7ed16290-e647-11ec-b295-02420a010016-2-c11c-52d3"
    }
   },
   "source": [
    "#### **Add Users** ボタンを押す\n",
    "\n",
    "![](images/tljh-control_3.png)"
   ]
  },
  {
   "cell_type": "markdown",
   "metadata": {
    "lc_cell_meme": {
     "current": "7ed163c6-e647-11ec-b295-02420a010016-2-725d-0c0c",
     "next": "7ed1645c-e647-11ec-b295-02420a010016-2-f670-cfdb",
     "previous": "7ed16326-e647-11ec-b295-02420a010016-2-a90a-c39c"
    }
   },
   "source": [
    "#### アカウント名を入力して **Add Users** ボタンを押す\n",
    "\n",
    "- アカウント名は改行して複数入力することが可能\n",
    "\n",
    "![](images/tljh-addusers.png)"
   ]
  },
  {
   "cell_type": "markdown",
   "metadata": {
    "lc_cell_meme": {
     "current": "7ed1645c-e647-11ec-b295-02420a010016-2-f670-cfdb",
     "next": "7ed164fc-e647-11ec-b295-02420a010016-2-17ab-482a",
     "previous": "7ed163c6-e647-11ec-b295-02420a010016-2-725d-0c0c"
    }
   },
   "source": [
    "### Python パッケージの追加\n",
    "\n",
    "Python実習環境として利用するために、ライブラリ・パッケージの追加を試します。\n",
    "\n",
    "- cf. <https://tljh.jupyter.org/en/latest/howto/env/user-environment.html#installing-pip-packages>\n",
    "\n",
    "<p>\n",
    "    \n",
    "ここでは以下の [pip](https://pypi.org/project/pip/) パッケージをインストールします。\n",
    "\n",
    "- [numpy](https://numpy.org/)\n",
    "- [matplotlib](https://matplotlib.org/)\n",
    "- [pandas](https://pandas.pydata.org/)\n"
   ]
  },
  {
   "cell_type": "markdown",
   "metadata": {
    "lc_cell_meme": {
     "current": "7ed164fc-e647-11ec-b295-02420a010016-2-17ab-482a",
     "execution_end_time": "2022-06-05T06:56:32.908717Z",
     "next": "7ed16592-e647-11ec-b295-02420a010016-2-1a3c-e03d",
     "previous": "7ed1645c-e647-11ec-b295-02420a010016-2-f670-cfdb"
    },
    "lc_wrapper": {}
   },
   "source": [
    "#### 管理者ユーザとしてログインしてTerminalを開く\n",
    "\n",
    "![](images/tljh-terminal.png)"
   ]
  },
  {
   "cell_type": "markdown",
   "metadata": {
    "lc_cell_meme": {
     "current": "7ed16592-e647-11ec-b295-02420a010016-2-1a3c-e03d",
     "next": "7ed16632-e647-11ec-b295-02420a010016-2-d762-be02",
     "previous": "7ed164fc-e647-11ec-b295-02420a010016-2-17ab-482a"
    }
   },
   "source": [
    "#### Terminalで以下のコマンドを実行する\n",
    "\n",
    "```\n",
    "sudo -E pip --no-cache-dir install numpy matplotlib pandas\n",
    "```\n",
    "\n",
    "Terminal を使用せずに、以下のセルでも同じコマンド操作が可能です。"
   ]
  },
  {
   "cell_type": "code",
   "execution_count": null,
   "metadata": {
    "lc_cell_meme": {
     "current": "7ed16632-e647-11ec-b295-02420a010016-2-d762-be02",
     "next": "7ed166d2-e647-11ec-b295-02420a010016-2-2cc9-5cfb",
     "previous": "7ed16592-e647-11ec-b295-02420a010016-2-1a3c-e03d"
    },
    "lc_wrapper": {}
   },
   "outputs": [],
   "source": [
    "!ssh {ssh_opts} -p 20022 {user_name}@{public_ip_address_in} sudo docker exec mynode \\\n",
    "    /opt/tljh/user/bin/pip --no-cache-dir install numpy matplotlib pandas"
   ]
  },
  {
   "cell_type": "markdown",
   "metadata": {
    "lc_cell_meme": {
     "current": "7ed166d2-e647-11ec-b295-02420a010016-2-2cc9-5cfb",
     "next": "7ed16772-e647-11ec-b295-02420a010016-2-c3c8-cae0",
     "previous": "7ed16632-e647-11ec-b295-02420a010016-2-d762-be02"
    }
   },
   "source": [
    "#### インストールできたことを確認する\n",
    "\n",
    "```\n",
    "sudo -E pip --no-cache-dir list | grep -e numpy -e matplotlib -e pandas\n",
    "```\n",
    "\n",
    "  - 正常にインストールできていれば、以下のようにバージョン情報が出力される。\n",
    "\n",
    "    ```\n",
    "    matplotlib             3.7.1\n",
    "    matplotlib-inline      0.1.6\n",
    "    numpy                  1.24.2\n",
    "    pandas                 1.5.3\n",
    "    ```\n",
    "\n",
    "Terminal を使用せずに、以下のセルでも同じコマンド操作が可能です。"
   ]
  },
  {
   "cell_type": "code",
   "execution_count": null,
   "metadata": {
    "lc_cell_meme": {
     "current": "7ed16772-e647-11ec-b295-02420a010016-2-c3c8-cae0",
     "next": "7ed16808-e647-11ec-b295-02420a010016-2-ccd0-ee99",
     "previous": "7ed166d2-e647-11ec-b295-02420a010016-2-2cc9-5cfb"
    },
    "lc_wrapper": {}
   },
   "outputs": [],
   "source": [
    "!ssh {ssh_opts} -p 20022 {user_name}@{public_ip_address_in} sudo docker exec mynode \\\n",
    "    /opt/tljh/user/bin/pip --no-cache-dir list | grep -e numpy -e matplotlib -e pandas"
   ]
  },
  {
   "cell_type": "markdown",
   "metadata": {
    "lc_cell_meme": {
     "current": "7ed16808-e647-11ec-b295-02420a010016-2-ccd0-ee99",
     "next": "7ed1689e-e647-11ec-b295-02420a010016-2-015f-06a2",
     "previous": "7ed16772-e647-11ec-b295-02420a010016-2-c3c8-cae0"
    }
   },
   "source": [
    "### 教材Notebookの配布（ファイル共有）\n",
    "\n",
    "実習用に用意された教材がある場合、TLJH環境の各ユーザから読み込み専用の共有フォルダにアクセスさせることで教材配布が行えるようにします。\n",
    "\n",
    "- cf. <https://tljh.jupyter.org/en/latest/howto/content/share-data.html#option-2-create-a-read-only-shared-folder-for-data>"
   ]
  },
  {
   "cell_type": "markdown",
   "metadata": {
    "lc_cell_meme": {
     "current": "7ed1689e-e647-11ec-b295-02420a010016-2-015f-06a2",
     "next": "7ed16948-e647-11ec-b295-02420a010016-2-0739-efb9",
     "previous": "7ed16808-e647-11ec-b295-02420a010016-2-ccd0-ee99"
    }
   },
   "source": [
    "#### 管理者ユーザのTerminalで共有フォルダを作成する\n",
    "\n",
    "- 管理者ユーザとしてログインし、Terminal からコマンドを実行して共有フォルダを作成します。\n",
    "- 共有フォルダは `/srv/data/` 以下であれば任意のフォルダ名が使用できます。\n",
    "\n",
    "```\n",
    "sudo mkdir -p /srv/data/shared\n",
    "```\n",
    "\n",
    "Terminal を使用せずに、以下のセルでも同じコマンド操作が可能です。"
   ]
  },
  {
   "cell_type": "code",
   "execution_count": null,
   "metadata": {
    "lc_cell_meme": {
     "current": "7ed16948-e647-11ec-b295-02420a010016-2-0739-efb9",
     "next": "7ed169de-e647-11ec-b295-02420a010016-2-ea30-abc2",
     "previous": "7ed1689e-e647-11ec-b295-02420a010016-2-015f-06a2"
    },
    "lc_wrapper": {}
   },
   "outputs": [],
   "source": [
    "!ssh {ssh_opts} -p 20022 {user_name}@{public_ip_address_in} sudo docker exec mynode mkdir -p /srv/data/shared"
   ]
  },
  {
   "cell_type": "markdown",
   "metadata": {
    "lc_cell_meme": {
     "current": "7ed169de-e647-11ec-b295-02420a010016-2-ea30-abc2",
     "next": "7ed16a74-e647-11ec-b295-02420a010016-2-dea2-a14e",
     "previous": "7ed16948-e647-11ec-b295-02420a010016-2-0739-efb9"
    }
   },
   "source": [
    "#### ユーザのホームディレクトリに共有フォルダへのリンクを作成する\n",
    "\n",
    "- `/etc/skel/` ディレクトリに共有フォルダへのシンボリックリンクを作成します。  \n",
    "  これにより、新規に追加したユーザのホームディレクトリに共有フォルダが表示されます。\n",
    "  * ユーザ追加後、一度もログインしたことがないユーザは初回ログイン時に共有フォルダが表示されます。\n",
    "- 管理者ユーザとしてログインし、 Terminalから以下のコマンドを実行します。\n",
    "\n",
    "```\n",
    "sudo ln -s /srv/data/shared /etc/skel/\n",
    "```\n",
    "\n",
    "Terminal を使用せずに、以下のセルでも同じコマンド操作が可能です。"
   ]
  },
  {
   "cell_type": "code",
   "execution_count": null,
   "metadata": {
    "lc_cell_meme": {
     "current": "7ed16a74-e647-11ec-b295-02420a010016-2-dea2-a14e",
     "next": "7ed16b1e-e647-11ec-b295-02420a010016-2-593d-74a9",
     "previous": "7ed169de-e647-11ec-b295-02420a010016-2-ea30-abc2"
    },
    "lc_wrapper": {}
   },
   "outputs": [],
   "source": [
    "!ssh {ssh_opts} -p 20022 {user_name}@{public_ip_address_in} sudo docker exec mynode ln -sf /srv/data/shared /etc/skel/"
   ]
  },
  {
   "cell_type": "markdown",
   "metadata": {
    "lc_cell_meme": {
     "current": "7ed16b1e-e647-11ec-b295-02420a010016-2-593d-74a9",
     "next": "7ed16baa-e647-11ec-b295-02420a010016-2-efde-e5a9",
     "previous": "7ed16a74-e647-11ec-b295-02420a010016-2-dea2-a14e"
    }
   },
   "source": [
    "#### TLJH環境の共有フォルダにファイルを配置する\n",
    "\n",
    "サンプルのNotebookファイル [sample-notebook.ipynb](./files/sample-notebook.ipynb) を用意したので、これをJupyterHubにコピーします。\n",
    "\n",
    "以下のセルを実行することで、ここからVCノードを経由してTLJHコンテナ上の共有フォルダにコピーを行います。"
   ]
  },
  {
   "cell_type": "code",
   "execution_count": null,
   "metadata": {
    "lc_cell_meme": {
     "current": "7ed16baa-e647-11ec-b295-02420a010016-2-efde-e5a9",
     "next": "7ed16c36-e647-11ec-b295-02420a010016-2-9d9b-79cc",
     "previous": "7ed16b1e-e647-11ec-b295-02420a010016-2-593d-74a9"
    },
    "lc_wrapper": {}
   },
   "outputs": [],
   "source": [
    "filename = 'sample-notebook.ipynb'\n",
    "\n",
    "# このNotebookからVCノードのtmpへのコピー\n",
    "!scp {ssh_opts} -P 20022 ./files/{filename} {user_name}@{public_ip_address_in}:/tmp/\n",
    "!ssh {ssh_opts} -p 20022 {user_name}@{public_ip_address_in} sudo docker cp /tmp/{filename} mynode:/tmp/{filename}\n",
    "\n",
    "# VCノード上のtmpから共有フォルダへのコピー\n",
    "!ssh {ssh_opts} -p 20022 {user_name}@{public_ip_address_in} sudo docker exec mynode cp /tmp/{filename} /srv/data/shared/{filename}"
   ]
  },
  {
   "cell_type": "markdown",
   "metadata": {
    "lc_cell_meme": {
     "current": "7ed16c36-e647-11ec-b295-02420a010016-2-9d9b-79cc",
     "next": "7ed16d6c-e647-11ec-b295-02420a010016-2-416f-f0eb",
     "previous": "7ed16baa-e647-11ec-b295-02420a010016-2-efde-e5a9"
    }
   },
   "source": [
    "### 一般ユーザとしてログインし、共有フォルダを開く\n",
    "\n",
    "一般ユーザとしてTLJHにログインすると、ホームディレクトリに共有フォルダが表示されます。\n",
    "\n",
    "> 管理者ユーザとしてログイン中の場合、一度ログアウトする必要があります。"
   ]
  },
  {
   "cell_type": "markdown",
   "metadata": {
    "lc_cell_meme": {
     "current": "7ed16d6c-e647-11ec-b295-02420a010016-2-416f-f0eb",
     "next": "7ed16e02-e647-11ec-b295-02420a010016-2-6395-181d",
     "previous": "7ed16c36-e647-11ec-b295-02420a010016-2-9d9b-79cc"
    }
   },
   "source": [
    "## (参考) 応用編\n",
    "\n",
    "ここでは、TLJH の運用環境をさらにカスタマイズするためのいくつかの方法を紹介します。"
   ]
  },
  {
   "cell_type": "markdown",
   "metadata": {
    "lc_cell_meme": {
     "current": "7ed16e02-e647-11ec-b295-02420a010016-2-6395-181d",
     "next": "7ed16e98-e647-11ec-b295-02420a010016-2-0ef5-a9cb",
     "previous": "7ed16d6c-e647-11ec-b295-02420a010016-2-416f-f0eb"
    }
   },
   "source": [
    "### Jupyter Notebook 拡張機能の導入\n",
    "\n",
    "そのままでも十分使いやすいJupyter Notebookですが、 `jupyter_contrib_nbextensions` というライブラリを導入することで様々な拡張機能が使えるようになり、より便利になります。\n",
    "\n",
    "- cf. <https://tljh.jupyter.org/en/latest/howto/admin/enable-extensions.html>"
   ]
  },
  {
   "cell_type": "markdown",
   "metadata": {
    "lc_cell_meme": {
     "current": "7ed16e98-e647-11ec-b295-02420a010016-2-0ef5-a9cb",
     "next": "7ed16f38-e647-11ec-b295-02420a010016-2-c1d7-a2f6",
     "previous": "7ed16e02-e647-11ec-b295-02420a010016-2-6395-181d"
    }
   },
   "source": [
    "#### 管理者ユーザのTerminalでコマンド実行\n",
    "\n",
    "管理者ユーザとしてログインし、Terminal から以下のコマンドを実行します。\n",
    "\n",
    "1.  pip パッケージをインストールする\n",
    "\n",
    "```\n",
    "sudo -E pip --no-cache-dir install notebook==6.5.6\n",
    "sudo -E pip --no-cache-dir install jupyter_contrib_nbextensions==0.5.1\n",
    "```\n",
    "\n",
    "2. 拡張機能のスタイルファイルをJupyter環境に追加する\n",
    "\n",
    "```\n",
    "sudo -E jupyter contrib nbextension install --sys-prefix\n",
    "```\n",
    "\n",
    "3. [Table of Contents (2)](https://jupyter-contrib-nbextensions.readthedocs.io/en/latest/nbextensions/toc2/README.html) （目次表示） の拡張機能を有効化する\n",
    "\n",
    "```\n",
    "sudo -E jupyter nbextension enable toc2/main --sys-prefix\n",
    "```\n",
    "\n",
    "4. 現在有効な拡張機能を確認する\n",
    "\n",
    "```\n",
    "jupyter nbextension list\n",
    "```\n",
    "\n",
    "Terminal を使用せずに、以下のセルでも同じコマンド操作が可能です。"
   ]
  },
  {
   "cell_type": "code",
   "execution_count": null,
   "metadata": {
    "lc_cell_meme": {
     "current": "7ed16f38-e647-11ec-b295-02420a010016-2-c1d7-a2f6",
     "next": "7ed16fc4-e647-11ec-b295-02420a010016-2-a03d-ca30",
     "previous": "7ed16e98-e647-11ec-b295-02420a010016-2-0ef5-a9cb"
    },
    "lc_wrapper": {}
   },
   "outputs": [],
   "source": [
    "# パッケージのインストール\n",
    "!ssh {ssh_opts} -p 20022 {user_name}@{public_ip_address_in} sudo docker exec mynode \\\n",
    "    sudo -E /opt/tljh/user/bin/pip --no-cache-dir install notebook==6.5.6\n",
    "!ssh {ssh_opts} -p 20022 {user_name}@{public_ip_address_in} sudo docker exec mynode \\\n",
    "    sudo -E /opt/tljh/user/bin/pip --no-cache-dir install jupyter_contrib_nbextensions==0.5.1\n",
    "\n",
    "# 拡張機能の追加\n",
    "!ssh {ssh_opts} -p 20022 {user_name}@{public_ip_address_in} sudo docker exec mynode \\\n",
    "    sudo -E /opt/tljh/user/bin/jupyter contrib nbextension install --sys-prefix\n",
    "\n",
    "# 拡張機能の有効化\n",
    "!ssh {ssh_opts} -p 20022 {user_name}@{public_ip_address_in} sudo docker exec mynode \\\n",
    "    sudo -E /opt/tljh/user/bin/jupyter nbextension enable toc2/main --sys-prefix\n",
    "\n",
    "# 現在有効な拡張機能の確認\n",
    "!ssh {ssh_opts} -p 20022 {user_name}@{public_ip_address_in} sudo docker exec mynode \\\n",
    "    /opt/tljh/user/bin/jupyter nbextension list"
   ]
  },
  {
   "cell_type": "markdown",
   "metadata": {
    "lc_cell_meme": {
     "current": "7ed16fc4-e647-11ec-b295-02420a010016-2-a03d-ca30",
     "next": "7ed17050-e647-11ec-b295-02420a010016-2-e310-0be7",
     "previous": "7ed16f38-e647-11ec-b295-02420a010016-2-c1d7-a2f6"
    }
   },
   "source": [
    "### 各ユーザのNotebookサーバのリソース制限\n",
    "\n",
    "各ユーザが使用できる最大メモリ量やCPUを管理者が `tljh-config` コマンドで設定して制限することができます。\n",
    "\n",
    "- cf. <https://tljh.jupyter.org/en/latest/topic/tljh-config.html#user-server-limits>"
   ]
  },
  {
   "cell_type": "markdown",
   "metadata": {
    "lc_cell_meme": {
     "current": "7ed17050-e647-11ec-b295-02420a010016-2-e310-0be7",
     "next": "7ed170fa-e647-11ec-b295-02420a010016-2-e012-2184",
     "previous": "7ed16fc4-e647-11ec-b295-02420a010016-2-a03d-ca30"
    }
   },
   "source": [
    "#### メモリ制限\n",
    "\n",
    "個々のユーザが使用可能な最大メモリ量を指定します。  \n",
    "管理者ユーザとしてログインし、Terminal から以下のコマンドを実行します。\n",
    "\n",
    "```\n",
    "sudo tljh-config set limits.memory 1G\n",
    "```\n",
    "\n",
    "- `None` を指定すると、メモリ制限は無効化される。"
   ]
  },
  {
   "cell_type": "markdown",
   "metadata": {
    "lc_cell_meme": {
     "current": "7ed170fa-e647-11ec-b295-02420a010016-2-e012-2184",
     "next": "7ed17190-e647-11ec-b295-02420a010016-2-e6bc-9815",
     "previous": "7ed17050-e647-11ec-b295-02420a010016-2-e310-0be7"
    }
   },
   "source": [
    "#### CPU制限\n",
    "\n",
    "各ユーザが使用可能なCPUコアの合計を指定します。  \n",
    "管理者ユーザとしてログインし、Terminal から以下のコマンドを実行します。\n",
    "\n",
    "```\n",
    "sudo tljh-config set limits.cpu 2\n",
    "```\n",
    "\n",
    "- `2` の場合、2個のCPUをフルに使用できることを表す。 `0.5` は、1個のCPUの半分を表す。"
   ]
  },
  {
   "cell_type": "markdown",
   "metadata": {
    "lc_cell_meme": {
     "current": "7ed17190-e647-11ec-b295-02420a010016-2-e6bc-9815",
     "next": "7ed17348-e647-11ec-b295-02420a010016-2-cf3f-ade9",
     "previous": "7ed170fa-e647-11ec-b295-02420a010016-2-e012-2184"
    }
   },
   "source": [
    "#### リソース制限設定の適用\n",
    "\n",
    "実行中のTLJH環境に設定を反映させるためには、管理者ユーザのTerminalから以下のコマンドを実行します。\n",
    "\n",
    "1. 確認\n",
    "\n",
    "```\n",
    "sudo tljh-config show\n",
    "```\n",
    "\n",
    "2. 適用\n",
    "\n",
    "```\n",
    "sudo tljh-config reload\n",
    "```"
   ]
  },
  {
   "cell_type": "markdown",
   "metadata": {
    "lc_cell_meme": {
     "current": "7ed17348-e647-11ec-b295-02420a010016-2-cf3f-ade9",
     "next": "7ed173d4-e647-11ec-b295-02420a010016-2-75c4-b815",
     "previous": "7ed17190-e647-11ec-b295-02420a010016-2-e6bc-9815"
    }
   },
   "source": [
    "## 環境の削除\n",
    "\n",
    "ここまで作成した全てのリソース（UnitGroup, Unit、VCノード）を削除します。  \n",
    "この操作を行うことで AWS EC2インスタンスやAzure VMなどのクラウドに作成したリソースが削除されます。"
   ]
  },
  {
   "cell_type": "code",
   "execution_count": null,
   "metadata": {
    "lc_cell_meme": {
     "current": "7ed173d4-e647-11ec-b295-02420a010016-2-75c4-b815",
     "next": "7ed17460-e647-11ec-b295-02420a010016-2-3686-78ee",
     "previous": "7ed17348-e647-11ec-b295-02420a010016-2-cf3f-ade9"
    },
    "lc_wrapper": {}
   },
   "outputs": [],
   "source": [
    "unit_group.cleanup()"
   ]
  },
  {
   "cell_type": "markdown",
   "metadata": {
    "lc_cell_meme": {
     "current": "7ed17460-e647-11ec-b295-02420a010016-2-3686-78ee",
     "next": "7ed174ec-e647-11ec-b295-02420a010016-2-dfda-f8e3",
     "previous": "7ed173d4-e647-11ec-b295-02420a010016-2-75c4-b815"
    }
   },
   "source": [
    "削除後の状態を確認します。"
   ]
  },
  {
   "cell_type": "code",
   "execution_count": null,
   "metadata": {
    "lc_cell_meme": {
     "current": "7ed174ec-e647-11ec-b295-02420a010016-2-dfda-f8e3",
     "next": "7ed17578-e647-11ec-b295-02420a010016-2-1c50-4916",
     "previous": "7ed17460-e647-11ec-b295-02420a010016-2-3686-78ee"
    },
    "lc_wrapper": {}
   },
   "outputs": [],
   "source": [
    "# UnitGroupの一覧を DataFrame で表示する\n",
    "vcp.df_ugroups()"
   ]
  },
  {
   "cell_type": "code",
   "execution_count": null,
   "metadata": {
    "lc_cell_meme": {
     "current": "7ed17578-e647-11ec-b295-02420a010016-2-1c50-4916",
     "next": null,
     "previous": "7ed174ec-e647-11ec-b295-02420a010016-2-dfda-f8e3"
    },
    "lc_wrapper": {}
   },
   "outputs": [],
   "source": [
    "# UnitGroup強制削除\n",
    "# UnitGroup作成後、エラーが発生するなど強制的に削除する必要が生じた場合のみ、コメントを外して利用します。\n",
    "# ugroup = vcp.get_ugroup('TLJH_template')\n",
    "# ugroup.cleanup()"
   ]
  }
 ],
 "metadata": {
  "kernelspec": {
   "display_name": "Python 3",
   "language": "python",
   "name": "python3"
  },
  "language_info": {
   "file_extension": ".py",
   "mimetype": "text/x-python",
   "name": "python",
   "nbconvert_exporter": "python",
   "pygments_lexer": "ipython3",
   "version": "3.10.4"
  },
  "toc": {
   "base_numbering": 1,
   "nav_menu": {},
   "number_sections": true,
   "sideBar": true,
   "skip_h1_title": true,
   "title_cell": "Table of Contents",
   "title_sidebar": "Contents",
   "toc_cell": false,
   "toc_position": {
    "height": "calc(100% - 180px)",
    "left": "10px",
    "top": "150px",
    "width": "357px"
   },
   "toc_section_display": true,
   "toc_window_display": true
  },
  "frozenable": true
 },
 "nbformat": 4,
 "nbformat_minor": 4
}
