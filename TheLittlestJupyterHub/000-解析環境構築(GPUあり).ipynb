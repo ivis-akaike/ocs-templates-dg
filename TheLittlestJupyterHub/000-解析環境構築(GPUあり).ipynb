{
 "cells": [
  {
   "cell_type": "markdown",
   "metadata": {},
   "source": [
    "# The Littlest JupyterHub with GPU (TLJH wigh GPU) の解析環境構築"
   ]
  },
  {
   "cell_type": "markdown",
   "metadata": {},
   "source": [
    "## Mdx仮想マシンの準備"
   ]
  },
  {
   "cell_type": "markdown",
   "metadata": {},
   "source": [
    "クラウドサービスとしてmdxを使用する場合は事前にGPUを使用可能な仮想マシンをデプロイする必要があります。  \n",
    "以下のセルを実行し、リンク先で仮想マシンを準備してください。  \n",
    "mdx以外のクラウドサービス(AWS,Azure,GCP, etc.)を使用する場合は不要です。"
   ]
  },
  {
   "cell_type": "code",
   "execution_count": null,
   "metadata": {
    "code_folding": [
     0
    ]
   },
   "outputs": [],
   "source": [
    "# Mdx仮想マシンの準備\n",
    "from IPython.core.display import HTML\n",
    "from library.utils.html import button\n",
    "\n",
    "display(HTML(\n",
    "    button.create_button(\n",
    "        url='../CoursewareHub/notebooks/941-mdx仮想マシンの準備(GPUあり).ipynb',\n",
    "        msg='Mdx仮想マシンの準備',\n",
    "        target='_blank',\n",
    "    )\n",
    "))"
   ]
  },
  {
   "cell_type": "markdown",
   "metadata": {},
   "source": [
    "## The Littlest JupyterHubの環境構築"
   ]
  },
  {
   "cell_type": "markdown",
   "metadata": {},
   "source": [
    "The Littlest JupyterHub環境を構築します。  \n",
    "以下のセルを実行し、リンク先で環境構築します。"
   ]
  },
  {
   "cell_type": "code",
   "execution_count": null,
   "metadata": {
    "code_folding": [
     0
    ]
   },
   "outputs": [],
   "source": [
    "# JupyterHub環境構築\n",
    "from IPython.core.display import HTML\n",
    "from library.utils.html import button\n",
    "\n",
    "display(HTML(\n",
    "    button.create_button(\n",
    "        url='001-JupyterHub環境構築(GPUあり).ipynb',\n",
    "        msg='JupyterHub環境構築',\n",
    "        target='_blank',\n",
    "    )\n",
    "))"
   ]
  }
 ],
 "metadata": {
  "kernelspec": {
   "display_name": "Python 3",
   "language": "python",
   "name": "python3"
  },
  "language_info": {
   "file_extension": ".py",
   "mimetype": "text/x-python",
   "name": "python",
   "nbconvert_exporter": "python",
   "pygments_lexer": "ipython3",
   "version": "3.8.6"
  },
  "toc": {
   "base_numbering": 1,
   "nav_menu": {},
   "number_sections": true,
   "sideBar": true,
   "skip_h1_title": true,
   "title_cell": "Table of Contents",
   "title_sidebar": "Contents",
   "toc_cell": false,
   "toc_position": {},
   "toc_section_display": true,
   "toc_window_display": false
  },
  "frozenable": true
 },
 "nbformat": 4,
 "nbformat_minor": 4
}
