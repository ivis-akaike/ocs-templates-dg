{
 "cells": [
  {
   "cell_type": "markdown",
   "metadata": {},
   "source": [
    "# Open OnDemandの解析環境構築"
   ]
  },
  {
   "cell_type": "markdown",
   "metadata": {},
   "source": [
    "## OpenHPCの環境構築\n",
    "Open OnDemandをOpenHPC環境にインストールするために、まずOpenHPCの環境を構築します。  "
   ]
  },
  {
   "cell_type": "markdown",
   "metadata": {},
   "source": [
    "OpenHPCのパラメータを設定します。  \n",
    "以下のセルを実行し、リンク先でパラメータを設定してください。"
   ]
  },
  {
   "cell_type": "code",
   "execution_count": null,
   "metadata": {
    "code_folding": [
     0
    ]
   },
   "outputs": [],
   "source": [
    "# OpenHPCパラメータ設定\n",
    "import os\n",
    "import shutil\n",
    "from IPython.core.display import HTML\n",
    "from pathlib import Path\n",
    "\n",
    "from library.utils.html import button\n",
    "\n",
    "def setup_nb_workdir(work_dir, base_dir='.'):\n",
    "    base = Path(base_dir)\n",
    "    work = Path(os.path.join(base_dir, work_dir))\n",
    "    if not work.exists():\n",
    "        work.mkdir(parents=True, exist_ok=True)\n",
    "    for sub_dir in ['notebooks/images', 'scripts', 'template', 'patches']:\n",
    "        dst_dir = Path(os.path.join(work, Path(sub_dir).name)).resolve()\n",
    "        src_dir = Path(os.path.join(base, sub_dir)).resolve()\n",
    "        if src_dir.exists() and not dst_dir.exists():\n",
    "            dst_dir.symlink_to(src_dir, target_is_directory=True)\n",
    "    dst_gvars = work / \"group_vars\"\n",
    "    src_gvars = base / Path(\"group_vars\")\n",
    "    if src_gvars.exists() and not dst_gvars.exists():\n",
    "        shutil.copytree(src_gvars, dst_gvars)\n",
    "\n",
    "# 作業フォルダを作成\n",
    "setup_nb_workdir('work', '../OpenHPC-v2')\n",
    "\n",
    "# 環境構築に使用するファイルをコピー\n",
    "src_dir = '../OpenHPC-v2/notebooks'\n",
    "dst_dir = '../OpenHPC-v2/work'\n",
    "file = '010-パラメータ設定.ipynb'\n",
    "file_path1 = os.path.join(dst_dir, file)\n",
    "if not os.path.exists(file_path1):\n",
    "    shutil.copyfile(os.path.join(src_dir, file), file_path1)\n",
    "file = '020-OpenHPCの起動.ipynb'\n",
    "file_path2 = os.path.join(dst_dir, file)\n",
    "if not os.path.exists(file_path2):\n",
    "    shutil.copyfile(os.path.join(src_dir, file), file_path2)\n",
    "file = '920-作成した解析環境の削除.ipynb'\n",
    "file_path3 = os.path.join(dst_dir, file)\n",
    "if not os.path.exists(file_path3):\n",
    "    shutil.copyfile(os.path.join(src_dir, file), file_path3)\n",
    "\n",
    "display(HTML(\n",
    "    button.create_button(\n",
    "        url=file_path1,\n",
    "        msg='パラメータ設定',\n",
    "        target='_blank',\n",
    "        button_width='500px'\n",
    "    )\n",
    "))\n"
   ]
  },
  {
   "cell_type": "markdown",
   "metadata": {},
   "source": [
    "OpenHPCを起動します。  \n",
    "以下のセルを実行し、リンク先でOpenHPCを起動してください。"
   ]
  },
  {
   "cell_type": "code",
   "execution_count": null,
   "metadata": {
    "code_folding": [
     0
    ]
   },
   "outputs": [],
   "source": [
    "# OpenHPC起動\n",
    "from IPython.core.display import HTML\n",
    "from library.utils.html import button\n",
    "\n",
    "display(HTML(\n",
    "    button.create_button(\n",
    "        url=file_path2,\n",
    "        msg='OpenHPCの起動',\n",
    "        target='_blank',\n",
    "        button_width='500px'\n",
    "    )\n",
    "))"
   ]
  },
  {
   "cell_type": "markdown",
   "metadata": {},
   "source": [
    "## Open OnDemandの環境構築\n",
    "OpenHPCの環境構築ができたら、Open OnDemandの環境を構築します。  "
   ]
  },
  {
   "cell_type": "markdown",
   "metadata": {},
   "source": [
    "Open OnDemandをインストールします。  \n",
    "以下のセルを実行し、リンク先でインストールしてください。"
   ]
  },
  {
   "cell_type": "code",
   "execution_count": null,
   "metadata": {
    "code_folding": [
     0
    ]
   },
   "outputs": [],
   "source": [
    "# Open OnDemandインストール\n",
    "from IPython.core.display import HTML\n",
    "from library.utils.html import button\n",
    "\n",
    "display(HTML(\n",
    "    button.create_button(\n",
    "        url='010-OpenOnDemandのインストール.ipynb',\n",
    "        msg='Open OnDemandのインストール',\n",
    "        target='_blank',\n",
    "        button_width='500px'\n",
    "    )\n",
    "))"
   ]
  },
  {
   "cell_type": "markdown",
   "metadata": {},
   "source": [
    "Open OnDemandをセットアップします。  \n",
    "以下のセルを実行し、リンク先でセットアップしてください。"
   ]
  },
  {
   "cell_type": "code",
   "execution_count": null,
   "metadata": {
    "code_folding": [
     0
    ]
   },
   "outputs": [],
   "source": [
    "# Open OnDemandセットアップ\n",
    "from IPython.core.display import HTML\n",
    "from library.utils.html import button\n",
    "\n",
    "display(HTML(\n",
    "    button.create_button(\n",
    "        url='020-OpenOnDemandのセットアップ.ipynb',\n",
    "        msg='Open OnDemandのセットアップ',\n",
    "        target='_blank',\n",
    "        button_width='500px'\n",
    "    )\n",
    "))"
   ]
  },
  {
   "cell_type": "markdown",
   "metadata": {},
   "source": [
    "環境構築ができたら、ジョブの実行環境を設定します。  \n",
    "以下のセルを実行し、リンク先で実行環境を設定してください。"
   ]
  },
  {
   "cell_type": "code",
   "execution_count": null,
   "metadata": {
    "code_folding": [
     0
    ]
   },
   "outputs": [],
   "source": [
    "# Open OnDemandにジョブ実行環境(Slurm)をセットアップする\n",
    "from IPython.core.display import HTML\n",
    "from library.utils.html import button\n",
    "\n",
    "display(HTML(\n",
    "    button.create_button(\n",
    "        url='030-OpenOnDemandにジョブ実行環境(Slurm)をセットアップする.ipynb',\n",
    "        msg='Open OnDemandにジョブ実行環境(Slurm)をセットアップする',\n",
    "        target='_blank',\n",
    "        button_width='500px'\n",
    "    )\n",
    "))"
   ]
  },
  {
   "cell_type": "markdown",
   "metadata": {},
   "source": [
    "Open OnDemandからJupyter Notebookのサーバをジョブとして起動し、それに対して接続する設定を行います。  \n",
    "以下のセルを実行し、リンク先で設定を行ってください。"
   ]
  },
  {
   "cell_type": "code",
   "execution_count": null,
   "metadata": {
    "code_folding": [
     0
    ]
   },
   "outputs": [],
   "source": [
    "# ComputeNodeにJupyterNotebookをセットアップする\n",
    "from IPython.core.display import HTML\n",
    "from library.utils.html import button\n",
    "\n",
    "display(HTML(\n",
    "    button.create_button(\n",
    "        url='050-ComputeNodeにJupyterNotebookをセットアップする.ipynb',\n",
    "        msg='ComputeNodeにJupyterNotebookをセットアップする',\n",
    "        target='_blank',\n",
    "        button_width='500px'\n",
    "    )\n",
    "))"
   ]
  },
  {
   "cell_type": "markdown",
   "metadata": {},
   "source": [
    "Open OnDemandをフロントエンドとして、Linpackを実行する環境を構築するための設定を行います。  \n",
    "以下のセルを実行し、リンク先でセットアップを行ってください。"
   ]
  },
  {
   "cell_type": "code",
   "execution_count": null,
   "metadata": {
    "code_folding": [
     0
    ]
   },
   "outputs": [],
   "source": [
    "# Open OnDemandのフロントエンドにLinpackをセットアップする\n",
    "from IPython.core.display import HTML\n",
    "from library.utils.html import button\n",
    "\n",
    "display(HTML(\n",
    "    button.create_button(\n",
    "        url='070-OpenOnDemandのフロントエンドにLinpackをセットアップする.ipynb',\n",
    "        msg='Open OnDemandのフロントエンドにLinpackをセットアップする',\n",
    "        target='_blank',\n",
    "        button_width='500px'\n",
    "    )\n",
    "))"
   ]
  },
  {
   "cell_type": "markdown",
   "metadata": {},
   "source": [
    "## 作成した解析環境の削除\n",
    "作成した解析環境を削除します。  \n",
    "以下のセルを実行し、リンク先の指示に従って環境を削除してください。"
   ]
  },
  {
   "cell_type": "code",
   "execution_count": null,
   "metadata": {
    "code_folding": [
     0
    ]
   },
   "outputs": [],
   "source": [
    "# 作成した解析環境の削除\n",
    "from IPython.core.display import HTML\n",
    "from library.utils.html import button\n",
    "\n",
    "dst_dir = '../OpenHPC-v2/work'\n",
    "file = '920-作成した解析環境の削除.ipynb'\n",
    "file_path = os.path.join(dst_dir, file)\n",
    "display(HTML(\n",
    "    button.create_button(\n",
    "        url=file_path,\n",
    "        msg='作成した解析環境の削除',\n",
    "        target='_blank',\n",
    "        button_width='500px'\n",
    "    )\n",
    "))"
   ]
  }
 ],
 "metadata": {
  "kernelspec": {
   "display_name": "Python 3",
   "language": "python",
   "name": "python3"
  },
  "language_info": {
   "file_extension": ".py",
   "mimetype": "text/x-python",
   "name": "python",
   "nbconvert_exporter": "python",
   "pygments_lexer": "ipython3",
   "version": "3.8.6"
  },
  "toc": {
   "base_numbering": 1,
   "nav_menu": {},
   "number_sections": true,
   "sideBar": true,
   "skip_h1_title": true,
   "title_cell": "Table of Contents",
   "title_sidebar": "Contents",
   "toc_cell": false,
   "toc_position": {},
   "toc_section_display": true,
   "toc_window_display": false
  },
  "frozenable": true
 },
 "nbformat": 4,
 "nbformat_minor": 4
}
